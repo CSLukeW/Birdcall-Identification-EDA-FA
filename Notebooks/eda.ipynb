{
 "cells": [
  {
   "cell_type": "markdown",
   "metadata": {},
   "source": [
    "# Bird Call Classification: Data Exploration "
   ]
  },
  {
   "cell_type": "markdown",
   "metadata": {},
   "source": [
    "## Environment"
   ]
  },
  {
   "cell_type": "code",
   "execution_count": 1,
   "metadata": {},
   "outputs": [],
   "source": [
    "import os\n",
    "import sys\n",
    "import librosa\n",
    "import numpy as np\n",
    "import pandas as pd\n",
    "import plotly.graph_objects as go\n",
    "import matplotlib.pyplot as plt\n",
    "import IPython.display as ipd"
   ]
  },
  {
   "cell_type": "markdown",
   "metadata": {},
   "source": [
    "## Metadata"
   ]
  },
  {
   "cell_type": "code",
   "execution_count": 2,
   "metadata": {},
   "outputs": [
    {
     "output_type": "execute_result",
     "data": {
      "text/plain": "   rating playback_used ebird_code    channels        date          pitch  \\\n0     3.5            no     aldfly    1 (mono)  2013-05-25  Not specified   \n1     4.0            no     aldfly  2 (stereo)  2013-05-27           both   \n2     4.0            no     aldfly  2 (stereo)  2013-05-27           both   \n3     3.5            no     aldfly  2 (stereo)  2013-05-27           both   \n4     4.0            no     aldfly  2 (stereo)  2013-05-27           both   \n\n   duration      filename          speed           species  ...   xc_id  \\\n0        25  XC134874.mp3  Not specified  Alder Flycatcher  ...  134874   \n1        36  XC135454.mp3           both  Alder Flycatcher  ...  135454   \n2        39  XC135455.mp3           both  Alder Flycatcher  ...  135455   \n3        33  XC135456.mp3           both  Alder Flycatcher  ...  135456   \n4        36  XC135457.mp3          level  Alder Flycatcher  ...  135457   \n\n                                 url        country            author  \\\n0  https://www.xeno-canto.org/134874  United States  Jonathon Jongsma   \n1  https://www.xeno-canto.org/135454  United States       Mike Nelson   \n2  https://www.xeno-canto.org/135455  United States       Mike Nelson   \n3  https://www.xeno-canto.org/135456  United States       Mike Nelson   \n4  https://www.xeno-canto.org/135457  United States       Mike Nelson   \n\n                        primary_label longitude         length   time  \\\n0  Empidonax alnorum_Alder Flycatcher   -92.962  Not specified   8:00   \n1  Empidonax alnorum_Alder Flycatcher  -82.1106         0-3(s)  08:30   \n2  Empidonax alnorum_Alder Flycatcher  -82.1106         0-3(s)  08:30   \n3  Empidonax alnorum_Alder Flycatcher  -82.1106         0-3(s)  08:30   \n4  Empidonax alnorum_Alder Flycatcher  -82.1106         0-3(s)  08:30   \n\n          recordist                                            license  \n0  Jonathon Jongsma        Creative Commons Attribution-ShareAlike 3.0  \n1       Mike Nelson  Creative Commons Attribution-NonCommercial-Sha...  \n2       Mike Nelson  Creative Commons Attribution-NonCommercial-Sha...  \n3       Mike Nelson  Creative Commons Attribution-NonCommercial-Sha...  \n4       Mike Nelson  Creative Commons Attribution-NonCommercial-Sha...  \n\n[5 rows x 35 columns]",
      "text/html": "<div>\n<style scoped>\n    .dataframe tbody tr th:only-of-type {\n        vertical-align: middle;\n    }\n\n    .dataframe tbody tr th {\n        vertical-align: top;\n    }\n\n    .dataframe thead th {\n        text-align: right;\n    }\n</style>\n<table border=\"1\" class=\"dataframe\">\n  <thead>\n    <tr style=\"text-align: right;\">\n      <th></th>\n      <th>rating</th>\n      <th>playback_used</th>\n      <th>ebird_code</th>\n      <th>channels</th>\n      <th>date</th>\n      <th>pitch</th>\n      <th>duration</th>\n      <th>filename</th>\n      <th>speed</th>\n      <th>species</th>\n      <th>...</th>\n      <th>xc_id</th>\n      <th>url</th>\n      <th>country</th>\n      <th>author</th>\n      <th>primary_label</th>\n      <th>longitude</th>\n      <th>length</th>\n      <th>time</th>\n      <th>recordist</th>\n      <th>license</th>\n    </tr>\n  </thead>\n  <tbody>\n    <tr>\n      <th>0</th>\n      <td>3.5</td>\n      <td>no</td>\n      <td>aldfly</td>\n      <td>1 (mono)</td>\n      <td>2013-05-25</td>\n      <td>Not specified</td>\n      <td>25</td>\n      <td>XC134874.mp3</td>\n      <td>Not specified</td>\n      <td>Alder Flycatcher</td>\n      <td>...</td>\n      <td>134874</td>\n      <td>https://www.xeno-canto.org/134874</td>\n      <td>United States</td>\n      <td>Jonathon Jongsma</td>\n      <td>Empidonax alnorum_Alder Flycatcher</td>\n      <td>-92.962</td>\n      <td>Not specified</td>\n      <td>8:00</td>\n      <td>Jonathon Jongsma</td>\n      <td>Creative Commons Attribution-ShareAlike 3.0</td>\n    </tr>\n    <tr>\n      <th>1</th>\n      <td>4.0</td>\n      <td>no</td>\n      <td>aldfly</td>\n      <td>2 (stereo)</td>\n      <td>2013-05-27</td>\n      <td>both</td>\n      <td>36</td>\n      <td>XC135454.mp3</td>\n      <td>both</td>\n      <td>Alder Flycatcher</td>\n      <td>...</td>\n      <td>135454</td>\n      <td>https://www.xeno-canto.org/135454</td>\n      <td>United States</td>\n      <td>Mike Nelson</td>\n      <td>Empidonax alnorum_Alder Flycatcher</td>\n      <td>-82.1106</td>\n      <td>0-3(s)</td>\n      <td>08:30</td>\n      <td>Mike Nelson</td>\n      <td>Creative Commons Attribution-NonCommercial-Sha...</td>\n    </tr>\n    <tr>\n      <th>2</th>\n      <td>4.0</td>\n      <td>no</td>\n      <td>aldfly</td>\n      <td>2 (stereo)</td>\n      <td>2013-05-27</td>\n      <td>both</td>\n      <td>39</td>\n      <td>XC135455.mp3</td>\n      <td>both</td>\n      <td>Alder Flycatcher</td>\n      <td>...</td>\n      <td>135455</td>\n      <td>https://www.xeno-canto.org/135455</td>\n      <td>United States</td>\n      <td>Mike Nelson</td>\n      <td>Empidonax alnorum_Alder Flycatcher</td>\n      <td>-82.1106</td>\n      <td>0-3(s)</td>\n      <td>08:30</td>\n      <td>Mike Nelson</td>\n      <td>Creative Commons Attribution-NonCommercial-Sha...</td>\n    </tr>\n    <tr>\n      <th>3</th>\n      <td>3.5</td>\n      <td>no</td>\n      <td>aldfly</td>\n      <td>2 (stereo)</td>\n      <td>2013-05-27</td>\n      <td>both</td>\n      <td>33</td>\n      <td>XC135456.mp3</td>\n      <td>both</td>\n      <td>Alder Flycatcher</td>\n      <td>...</td>\n      <td>135456</td>\n      <td>https://www.xeno-canto.org/135456</td>\n      <td>United States</td>\n      <td>Mike Nelson</td>\n      <td>Empidonax alnorum_Alder Flycatcher</td>\n      <td>-82.1106</td>\n      <td>0-3(s)</td>\n      <td>08:30</td>\n      <td>Mike Nelson</td>\n      <td>Creative Commons Attribution-NonCommercial-Sha...</td>\n    </tr>\n    <tr>\n      <th>4</th>\n      <td>4.0</td>\n      <td>no</td>\n      <td>aldfly</td>\n      <td>2 (stereo)</td>\n      <td>2013-05-27</td>\n      <td>both</td>\n      <td>36</td>\n      <td>XC135457.mp3</td>\n      <td>level</td>\n      <td>Alder Flycatcher</td>\n      <td>...</td>\n      <td>135457</td>\n      <td>https://www.xeno-canto.org/135457</td>\n      <td>United States</td>\n      <td>Mike Nelson</td>\n      <td>Empidonax alnorum_Alder Flycatcher</td>\n      <td>-82.1106</td>\n      <td>0-3(s)</td>\n      <td>08:30</td>\n      <td>Mike Nelson</td>\n      <td>Creative Commons Attribution-NonCommercial-Sha...</td>\n    </tr>\n  </tbody>\n</table>\n<p>5 rows × 35 columns</p>\n</div>"
     },
     "metadata": {},
     "execution_count": 2
    }
   ],
   "source": [
    "train = pd.read_csv('../data/train.csv')\n",
    "train.head()"
   ]
  },
  {
   "cell_type": "code",
   "execution_count": 3,
   "metadata": {
    "tags": []
   },
   "outputs": [
    {
     "output_type": "stream",
     "name": "stdout",
     "text": "<class 'pandas.core.frame.DataFrame'>\nRangeIndex: 21375 entries, 0 to 21374\nData columns (total 35 columns):\n #   Column            Non-Null Count  Dtype  \n---  ------            --------------  -----  \n 0   rating            21375 non-null  float64\n 1   playback_used     19575 non-null  object \n 2   ebird_code        21375 non-null  object \n 3   channels          21375 non-null  object \n 4   date              21375 non-null  object \n 5   pitch             21375 non-null  object \n 6   duration          21375 non-null  int64  \n 7   filename          21375 non-null  object \n 8   speed             21375 non-null  object \n 9   species           21375 non-null  object \n 10  number_of_notes   21375 non-null  object \n 11  title             21375 non-null  object \n 12  secondary_labels  21375 non-null  object \n 13  bird_seen         19575 non-null  object \n 14  sci_name          21375 non-null  object \n 15  location          21375 non-null  object \n 16  latitude          21375 non-null  object \n 17  sampling_rate     21375 non-null  object \n 18  type              21375 non-null  object \n 19  elevation         21375 non-null  object \n 20  description       15176 non-null  object \n 21  bitrate_of_mp3    21367 non-null  object \n 22  file_type         21375 non-null  object \n 23  volume            21375 non-null  object \n 24  background        8300 non-null   object \n 25  xc_id             21375 non-null  int64  \n 26  url               21375 non-null  object \n 27  country           21375 non-null  object \n 28  author            21375 non-null  object \n 29  primary_label     21375 non-null  object \n 30  longitude         21375 non-null  object \n 31  length            21375 non-null  object \n 32  time              21375 non-null  object \n 33  recordist         21375 non-null  object \n 34  license           21375 non-null  object \ndtypes: float64(1), int64(2), object(32)\nmemory usage: 3.1+ MB\n"
    }
   ],
   "source": [
    "train.info()"
   ]
  },
  {
   "cell_type": "markdown",
   "metadata": {},
   "source": [
    "## Playback_used Distribution"
   ]
  },
  {
   "cell_type": "code",
   "execution_count": 11,
   "metadata": {},
   "outputs": [
    {
     "output_type": "display_data",
     "data": {
      "application/vnd.plotly.v1+json": {
       "config": {
        "plotlyServerURL": "https://plot.ly"
       },
       "data": [
        {
         "type": "bar",
         "x": [
          "no",
          "Unspecified",
          "yes"
         ],
         "y": [
          18964,
          1800,
          611
         ]
        }
       ],
       "layout": {
        "template": {
         "data": {
          "bar": [
           {
            "error_x": {
             "color": "#2a3f5f"
            },
            "error_y": {
             "color": "#2a3f5f"
            },
            "marker": {
             "line": {
              "color": "#E5ECF6",
              "width": 0.5
             }
            },
            "type": "bar"
           }
          ],
          "barpolar": [
           {
            "marker": {
             "line": {
              "color": "#E5ECF6",
              "width": 0.5
             }
            },
            "type": "barpolar"
           }
          ],
          "carpet": [
           {
            "aaxis": {
             "endlinecolor": "#2a3f5f",
             "gridcolor": "white",
             "linecolor": "white",
             "minorgridcolor": "white",
             "startlinecolor": "#2a3f5f"
            },
            "baxis": {
             "endlinecolor": "#2a3f5f",
             "gridcolor": "white",
             "linecolor": "white",
             "minorgridcolor": "white",
             "startlinecolor": "#2a3f5f"
            },
            "type": "carpet"
           }
          ],
          "choropleth": [
           {
            "colorbar": {
             "outlinewidth": 0,
             "ticks": ""
            },
            "type": "choropleth"
           }
          ],
          "contour": [
           {
            "colorbar": {
             "outlinewidth": 0,
             "ticks": ""
            },
            "colorscale": [
             [
              0,
              "#0d0887"
             ],
             [
              0.1111111111111111,
              "#46039f"
             ],
             [
              0.2222222222222222,
              "#7201a8"
             ],
             [
              0.3333333333333333,
              "#9c179e"
             ],
             [
              0.4444444444444444,
              "#bd3786"
             ],
             [
              0.5555555555555556,
              "#d8576b"
             ],
             [
              0.6666666666666666,
              "#ed7953"
             ],
             [
              0.7777777777777778,
              "#fb9f3a"
             ],
             [
              0.8888888888888888,
              "#fdca26"
             ],
             [
              1,
              "#f0f921"
             ]
            ],
            "type": "contour"
           }
          ],
          "contourcarpet": [
           {
            "colorbar": {
             "outlinewidth": 0,
             "ticks": ""
            },
            "type": "contourcarpet"
           }
          ],
          "heatmap": [
           {
            "colorbar": {
             "outlinewidth": 0,
             "ticks": ""
            },
            "colorscale": [
             [
              0,
              "#0d0887"
             ],
             [
              0.1111111111111111,
              "#46039f"
             ],
             [
              0.2222222222222222,
              "#7201a8"
             ],
             [
              0.3333333333333333,
              "#9c179e"
             ],
             [
              0.4444444444444444,
              "#bd3786"
             ],
             [
              0.5555555555555556,
              "#d8576b"
             ],
             [
              0.6666666666666666,
              "#ed7953"
             ],
             [
              0.7777777777777778,
              "#fb9f3a"
             ],
             [
              0.8888888888888888,
              "#fdca26"
             ],
             [
              1,
              "#f0f921"
             ]
            ],
            "type": "heatmap"
           }
          ],
          "heatmapgl": [
           {
            "colorbar": {
             "outlinewidth": 0,
             "ticks": ""
            },
            "colorscale": [
             [
              0,
              "#0d0887"
             ],
             [
              0.1111111111111111,
              "#46039f"
             ],
             [
              0.2222222222222222,
              "#7201a8"
             ],
             [
              0.3333333333333333,
              "#9c179e"
             ],
             [
              0.4444444444444444,
              "#bd3786"
             ],
             [
              0.5555555555555556,
              "#d8576b"
             ],
             [
              0.6666666666666666,
              "#ed7953"
             ],
             [
              0.7777777777777778,
              "#fb9f3a"
             ],
             [
              0.8888888888888888,
              "#fdca26"
             ],
             [
              1,
              "#f0f921"
             ]
            ],
            "type": "heatmapgl"
           }
          ],
          "histogram": [
           {
            "marker": {
             "colorbar": {
              "outlinewidth": 0,
              "ticks": ""
             }
            },
            "type": "histogram"
           }
          ],
          "histogram2d": [
           {
            "colorbar": {
             "outlinewidth": 0,
             "ticks": ""
            },
            "colorscale": [
             [
              0,
              "#0d0887"
             ],
             [
              0.1111111111111111,
              "#46039f"
             ],
             [
              0.2222222222222222,
              "#7201a8"
             ],
             [
              0.3333333333333333,
              "#9c179e"
             ],
             [
              0.4444444444444444,
              "#bd3786"
             ],
             [
              0.5555555555555556,
              "#d8576b"
             ],
             [
              0.6666666666666666,
              "#ed7953"
             ],
             [
              0.7777777777777778,
              "#fb9f3a"
             ],
             [
              0.8888888888888888,
              "#fdca26"
             ],
             [
              1,
              "#f0f921"
             ]
            ],
            "type": "histogram2d"
           }
          ],
          "histogram2dcontour": [
           {
            "colorbar": {
             "outlinewidth": 0,
             "ticks": ""
            },
            "colorscale": [
             [
              0,
              "#0d0887"
             ],
             [
              0.1111111111111111,
              "#46039f"
             ],
             [
              0.2222222222222222,
              "#7201a8"
             ],
             [
              0.3333333333333333,
              "#9c179e"
             ],
             [
              0.4444444444444444,
              "#bd3786"
             ],
             [
              0.5555555555555556,
              "#d8576b"
             ],
             [
              0.6666666666666666,
              "#ed7953"
             ],
             [
              0.7777777777777778,
              "#fb9f3a"
             ],
             [
              0.8888888888888888,
              "#fdca26"
             ],
             [
              1,
              "#f0f921"
             ]
            ],
            "type": "histogram2dcontour"
           }
          ],
          "mesh3d": [
           {
            "colorbar": {
             "outlinewidth": 0,
             "ticks": ""
            },
            "type": "mesh3d"
           }
          ],
          "parcoords": [
           {
            "line": {
             "colorbar": {
              "outlinewidth": 0,
              "ticks": ""
             }
            },
            "type": "parcoords"
           }
          ],
          "pie": [
           {
            "automargin": true,
            "type": "pie"
           }
          ],
          "scatter": [
           {
            "marker": {
             "colorbar": {
              "outlinewidth": 0,
              "ticks": ""
             }
            },
            "type": "scatter"
           }
          ],
          "scatter3d": [
           {
            "line": {
             "colorbar": {
              "outlinewidth": 0,
              "ticks": ""
             }
            },
            "marker": {
             "colorbar": {
              "outlinewidth": 0,
              "ticks": ""
             }
            },
            "type": "scatter3d"
           }
          ],
          "scattercarpet": [
           {
            "marker": {
             "colorbar": {
              "outlinewidth": 0,
              "ticks": ""
             }
            },
            "type": "scattercarpet"
           }
          ],
          "scattergeo": [
           {
            "marker": {
             "colorbar": {
              "outlinewidth": 0,
              "ticks": ""
             }
            },
            "type": "scattergeo"
           }
          ],
          "scattergl": [
           {
            "marker": {
             "colorbar": {
              "outlinewidth": 0,
              "ticks": ""
             }
            },
            "type": "scattergl"
           }
          ],
          "scattermapbox": [
           {
            "marker": {
             "colorbar": {
              "outlinewidth": 0,
              "ticks": ""
             }
            },
            "type": "scattermapbox"
           }
          ],
          "scatterpolar": [
           {
            "marker": {
             "colorbar": {
              "outlinewidth": 0,
              "ticks": ""
             }
            },
            "type": "scatterpolar"
           }
          ],
          "scatterpolargl": [
           {
            "marker": {
             "colorbar": {
              "outlinewidth": 0,
              "ticks": ""
             }
            },
            "type": "scatterpolargl"
           }
          ],
          "scatterternary": [
           {
            "marker": {
             "colorbar": {
              "outlinewidth": 0,
              "ticks": ""
             }
            },
            "type": "scatterternary"
           }
          ],
          "surface": [
           {
            "colorbar": {
             "outlinewidth": 0,
             "ticks": ""
            },
            "colorscale": [
             [
              0,
              "#0d0887"
             ],
             [
              0.1111111111111111,
              "#46039f"
             ],
             [
              0.2222222222222222,
              "#7201a8"
             ],
             [
              0.3333333333333333,
              "#9c179e"
             ],
             [
              0.4444444444444444,
              "#bd3786"
             ],
             [
              0.5555555555555556,
              "#d8576b"
             ],
             [
              0.6666666666666666,
              "#ed7953"
             ],
             [
              0.7777777777777778,
              "#fb9f3a"
             ],
             [
              0.8888888888888888,
              "#fdca26"
             ],
             [
              1,
              "#f0f921"
             ]
            ],
            "type": "surface"
           }
          ],
          "table": [
           {
            "cells": {
             "fill": {
              "color": "#EBF0F8"
             },
             "line": {
              "color": "white"
             }
            },
            "header": {
             "fill": {
              "color": "#C8D4E3"
             },
             "line": {
              "color": "white"
             }
            },
            "type": "table"
           }
          ]
         },
         "layout": {
          "annotationdefaults": {
           "arrowcolor": "#2a3f5f",
           "arrowhead": 0,
           "arrowwidth": 1
          },
          "coloraxis": {
           "colorbar": {
            "outlinewidth": 0,
            "ticks": ""
           }
          },
          "colorscale": {
           "diverging": [
            [
             0,
             "#8e0152"
            ],
            [
             0.1,
             "#c51b7d"
            ],
            [
             0.2,
             "#de77ae"
            ],
            [
             0.3,
             "#f1b6da"
            ],
            [
             0.4,
             "#fde0ef"
            ],
            [
             0.5,
             "#f7f7f7"
            ],
            [
             0.6,
             "#e6f5d0"
            ],
            [
             0.7,
             "#b8e186"
            ],
            [
             0.8,
             "#7fbc41"
            ],
            [
             0.9,
             "#4d9221"
            ],
            [
             1,
             "#276419"
            ]
           ],
           "sequential": [
            [
             0,
             "#0d0887"
            ],
            [
             0.1111111111111111,
             "#46039f"
            ],
            [
             0.2222222222222222,
             "#7201a8"
            ],
            [
             0.3333333333333333,
             "#9c179e"
            ],
            [
             0.4444444444444444,
             "#bd3786"
            ],
            [
             0.5555555555555556,
             "#d8576b"
            ],
            [
             0.6666666666666666,
             "#ed7953"
            ],
            [
             0.7777777777777778,
             "#fb9f3a"
            ],
            [
             0.8888888888888888,
             "#fdca26"
            ],
            [
             1,
             "#f0f921"
            ]
           ],
           "sequentialminus": [
            [
             0,
             "#0d0887"
            ],
            [
             0.1111111111111111,
             "#46039f"
            ],
            [
             0.2222222222222222,
             "#7201a8"
            ],
            [
             0.3333333333333333,
             "#9c179e"
            ],
            [
             0.4444444444444444,
             "#bd3786"
            ],
            [
             0.5555555555555556,
             "#d8576b"
            ],
            [
             0.6666666666666666,
             "#ed7953"
            ],
            [
             0.7777777777777778,
             "#fb9f3a"
            ],
            [
             0.8888888888888888,
             "#fdca26"
            ],
            [
             1,
             "#f0f921"
            ]
           ]
          },
          "colorway": [
           "#636efa",
           "#EF553B",
           "#00cc96",
           "#ab63fa",
           "#FFA15A",
           "#19d3f3",
           "#FF6692",
           "#B6E880",
           "#FF97FF",
           "#FECB52"
          ],
          "font": {
           "color": "#2a3f5f"
          },
          "geo": {
           "bgcolor": "white",
           "lakecolor": "white",
           "landcolor": "#E5ECF6",
           "showlakes": true,
           "showland": true,
           "subunitcolor": "white"
          },
          "hoverlabel": {
           "align": "left"
          },
          "hovermode": "closest",
          "mapbox": {
           "style": "light"
          },
          "paper_bgcolor": "white",
          "plot_bgcolor": "#E5ECF6",
          "polar": {
           "angularaxis": {
            "gridcolor": "white",
            "linecolor": "white",
            "ticks": ""
           },
           "bgcolor": "#E5ECF6",
           "radialaxis": {
            "gridcolor": "white",
            "linecolor": "white",
            "ticks": ""
           }
          },
          "scene": {
           "xaxis": {
            "backgroundcolor": "#E5ECF6",
            "gridcolor": "white",
            "gridwidth": 2,
            "linecolor": "white",
            "showbackground": true,
            "ticks": "",
            "zerolinecolor": "white"
           },
           "yaxis": {
            "backgroundcolor": "#E5ECF6",
            "gridcolor": "white",
            "gridwidth": 2,
            "linecolor": "white",
            "showbackground": true,
            "ticks": "",
            "zerolinecolor": "white"
           },
           "zaxis": {
            "backgroundcolor": "#E5ECF6",
            "gridcolor": "white",
            "gridwidth": 2,
            "linecolor": "white",
            "showbackground": true,
            "ticks": "",
            "zerolinecolor": "white"
           }
          },
          "shapedefaults": {
           "line": {
            "color": "#2a3f5f"
           }
          },
          "ternary": {
           "aaxis": {
            "gridcolor": "white",
            "linecolor": "white",
            "ticks": ""
           },
           "baxis": {
            "gridcolor": "white",
            "linecolor": "white",
            "ticks": ""
           },
           "bgcolor": "#E5ECF6",
           "caxis": {
            "gridcolor": "white",
            "linecolor": "white",
            "ticks": ""
           }
          },
          "title": {
           "x": 0.05
          },
          "xaxis": {
           "automargin": true,
           "gridcolor": "white",
           "linecolor": "white",
           "ticks": "",
           "title": {
            "standoff": 15
           },
           "zerolinecolor": "white",
           "zerolinewidth": 2
          },
          "yaxis": {
           "automargin": true,
           "gridcolor": "white",
           "linecolor": "white",
           "ticks": "",
           "title": {
            "standoff": 15
           },
           "zerolinecolor": "white",
           "zerolinewidth": 2
          }
         }
        }
       }
      }
     },
     "metadata": {}
    }
   ],
   "source": [
    "train['playback_used'].fillna('Unspecified', inplace=True)\n",
    "counts = train['playback_used'].value_counts()\n",
    "fig = go.Figure(data=[go.Bar(x=counts.index, y=counts)])\n",
    "fig"
   ]
  },
  {
   "cell_type": "markdown",
   "metadata": {},
   "source": [
    "- Vast majority of entries do not use playback"
   ]
  }
 ],
 "metadata": {
  "language_info": {
   "codemirror_mode": {
    "name": "ipython",
    "version": 3
   },
   "file_extension": ".py",
   "mimetype": "text/x-python",
   "name": "python",
   "nbconvert_exporter": "python",
   "pygments_lexer": "ipython3",
   "version": "3.8.3-final"
  },
  "orig_nbformat": 2,
  "kernelspec": {
   "name": "python38332bitenvvenvc92127579d514119a9adedf3da50ab7a",
   "display_name": "Python 3.8.3 32-bit ('env': venv)"
  }
 },
 "nbformat": 4,
 "nbformat_minor": 2
}